{
 "cells": [
  {
   "cell_type": "code",
   "execution_count": 3,
   "id": "d473d694-bf92-42de-a2ff-b744cf0b77b0",
   "metadata": {},
   "outputs": [],
   "source": [
    "import pandas as pd\n",
    "import numpy as np \n",
    "import matplotlib.pyplot as plt \n",
    "import seaborn as sns\n",
    "\n",
    "%matplotlib inline"
   ]
  },
  {
   "cell_type": "code",
   "execution_count": 4,
   "id": "9c7d5176-afd9-43bd-88a9-39b45247eae2",
   "metadata": {},
   "outputs": [],
   "source": [
    "df = pd.read_csv('indicator_data.csv')"
   ]
  },
  {
   "cell_type": "code",
   "execution_count": 5,
   "id": "edb67d00-a9f9-436f-ba7b-047b472fe80b",
   "metadata": {},
   "outputs": [
    {
     "name": "stdout",
     "output_type": "stream",
     "text": [
      "<class 'pandas.core.frame.DataFrame'>\n",
      "RangeIndex: 99246 entries, 0 to 99245\n",
      "Data columns (total 14 columns):\n",
      " #   Column                 Non-Null Count  Dtype  \n",
      "---  ------                 --------------  -----  \n",
      " 0   classification         99246 non-null  object \n",
      " 1   alert_escalation_date  99246 non-null  object \n",
      " 2   alert_id_fk            99246 non-null  int64  \n",
      " 3   insert_date            99246 non-null  object \n",
      " 4   score                  99246 non-null  int64  \n",
      " 5   employee_id            99246 non-null  int64  \n",
      " 6   risk_factor            99246 non-null  float64\n",
      " 7   avg_score              99246 non-null  int64  \n",
      " 8   hru                    99246 non-null  object \n",
      " 9   indicators             99246 non-null  object \n",
      " 10  alert_category         99246 non-null  object \n",
      " 11  alert_type             99246 non-null  object \n",
      " 12  indicator_source       99246 non-null  object \n",
      " 13  indicator_heat_score   54768 non-null  float64\n",
      "dtypes: float64(2), int64(4), object(8)\n",
      "memory usage: 10.6+ MB\n"
     ]
    }
   ],
   "source": [
    "df.info()"
   ]
  },
  {
   "cell_type": "code",
   "execution_count": 6,
   "id": "3fffc60c-0c7b-4804-a081-23a12b82b355",
   "metadata": {},
   "outputs": [
    {
     "data": {
      "text/html": [
       "<div>\n",
       "<style scoped>\n",
       "    .dataframe tbody tr th:only-of-type {\n",
       "        vertical-align: middle;\n",
       "    }\n",
       "\n",
       "    .dataframe tbody tr th {\n",
       "        vertical-align: top;\n",
       "    }\n",
       "\n",
       "    .dataframe thead th {\n",
       "        text-align: right;\n",
       "    }\n",
       "</style>\n",
       "<table border=\"1\" class=\"dataframe\">\n",
       "  <thead>\n",
       "    <tr style=\"text-align: right;\">\n",
       "      <th></th>\n",
       "      <th>classification</th>\n",
       "      <th>alert_escalation_date</th>\n",
       "      <th>alert_id_fk</th>\n",
       "      <th>insert_date</th>\n",
       "      <th>score</th>\n",
       "      <th>employee_id</th>\n",
       "      <th>risk_factor</th>\n",
       "      <th>avg_score</th>\n",
       "      <th>hru</th>\n",
       "      <th>indicators</th>\n",
       "      <th>alert_category</th>\n",
       "      <th>alert_type</th>\n",
       "      <th>indicator_source</th>\n",
       "      <th>indicator_heat_score</th>\n",
       "    </tr>\n",
       "  </thead>\n",
       "  <tbody>\n",
       "    <tr>\n",
       "      <th>0</th>\n",
       "      <td>TP/DE</td>\n",
       "      <td>1/2/19</td>\n",
       "      <td>1926516433</td>\n",
       "      <td>12/21/18</td>\n",
       "      <td>400</td>\n",
       "      <td>31037207271</td>\n",
       "      <td>3.636364</td>\n",
       "      <td>110</td>\n",
       "      <td>None</td>\n",
       "      <td>App_9_Heat_Email_IND</td>\n",
       "      <td>Heat</td>\n",
       "      <td>Daily_Heat</td>\n",
       "      <td>App_9</td>\n",
       "      <td>3.0</td>\n",
       "    </tr>\n",
       "    <tr>\n",
       "      <th>1</th>\n",
       "      <td>TP/DE</td>\n",
       "      <td>1/2/19</td>\n",
       "      <td>1926516433</td>\n",
       "      <td>12/21/18</td>\n",
       "      <td>400</td>\n",
       "      <td>31037207271</td>\n",
       "      <td>3.636364</td>\n",
       "      <td>110</td>\n",
       "      <td>None</td>\n",
       "      <td>App_3_Heat_Email_ZIP</td>\n",
       "      <td>Heat</td>\n",
       "      <td>Daily_Heat</td>\n",
       "      <td>App_3</td>\n",
       "      <td>5.0</td>\n",
       "    </tr>\n",
       "    <tr>\n",
       "      <th>2</th>\n",
       "      <td>TP/DE</td>\n",
       "      <td>1/2/19</td>\n",
       "      <td>1926516433</td>\n",
       "      <td>12/21/18</td>\n",
       "      <td>400</td>\n",
       "      <td>31037207271</td>\n",
       "      <td>3.636364</td>\n",
       "      <td>110</td>\n",
       "      <td>None</td>\n",
       "      <td>Threshold_Heat_Email_IND</td>\n",
       "      <td>Heat</td>\n",
       "      <td>Daily_Heat</td>\n",
       "      <td>Threshold</td>\n",
       "      <td>0.0</td>\n",
       "    </tr>\n",
       "    <tr>\n",
       "      <th>3</th>\n",
       "      <td>TP/LOW</td>\n",
       "      <td>1/2/19</td>\n",
       "      <td>988775910</td>\n",
       "      <td>12/21/18</td>\n",
       "      <td>10</td>\n",
       "      <td>7278169210</td>\n",
       "      <td>-1.000000</td>\n",
       "      <td>-1</td>\n",
       "      <td>None</td>\n",
       "      <td>App_13_Atomic_Email_IND</td>\n",
       "      <td>Atomic</td>\n",
       "      <td>Atomic</td>\n",
       "      <td>App_13</td>\n",
       "      <td>NaN</td>\n",
       "    </tr>\n",
       "    <tr>\n",
       "      <th>4</th>\n",
       "      <td>TP/DE</td>\n",
       "      <td>1/2/19</td>\n",
       "      <td>1973699404</td>\n",
       "      <td>12/21/18</td>\n",
       "      <td>416</td>\n",
       "      <td>31037207271</td>\n",
       "      <td>3.714286</td>\n",
       "      <td>112</td>\n",
       "      <td>None</td>\n",
       "      <td>App_9_Heat_Email_IND</td>\n",
       "      <td>Heat</td>\n",
       "      <td>Daily_Heat</td>\n",
       "      <td>App_9</td>\n",
       "      <td>3.0</td>\n",
       "    </tr>\n",
       "  </tbody>\n",
       "</table>\n",
       "</div>"
      ],
      "text/plain": [
       "  classification alert_escalation_date  alert_id_fk insert_date  score  \\\n",
       "0          TP/DE                1/2/19   1926516433    12/21/18    400   \n",
       "1          TP/DE                1/2/19   1926516433    12/21/18    400   \n",
       "2          TP/DE                1/2/19   1926516433    12/21/18    400   \n",
       "3         TP/LOW                1/2/19    988775910    12/21/18     10   \n",
       "4          TP/DE                1/2/19   1973699404    12/21/18    416   \n",
       "\n",
       "   employee_id  risk_factor  avg_score   hru                indicators  \\\n",
       "0  31037207271     3.636364        110  None      App_9_Heat_Email_IND   \n",
       "1  31037207271     3.636364        110  None      App_3_Heat_Email_ZIP   \n",
       "2  31037207271     3.636364        110  None  Threshold_Heat_Email_IND   \n",
       "3   7278169210    -1.000000         -1  None   App_13_Atomic_Email_IND   \n",
       "4  31037207271     3.714286        112  None      App_9_Heat_Email_IND   \n",
       "\n",
       "  alert_category  alert_type indicator_source  indicator_heat_score  \n",
       "0           Heat  Daily_Heat            App_9                   3.0  \n",
       "1           Heat  Daily_Heat            App_3                   5.0  \n",
       "2           Heat  Daily_Heat        Threshold                   0.0  \n",
       "3         Atomic      Atomic           App_13                   NaN  \n",
       "4           Heat  Daily_Heat            App_9                   3.0  "
      ]
     },
     "execution_count": 6,
     "metadata": {},
     "output_type": "execute_result"
    }
   ],
   "source": [
    "df.head(5)"
   ]
  },
  {
   "cell_type": "code",
   "execution_count": 7,
   "id": "db83d7c9-b490-4670-bf12-b26b8c1585a5",
   "metadata": {},
   "outputs": [
    {
     "data": {
      "text/html": [
       "<div>\n",
       "<style scoped>\n",
       "    .dataframe tbody tr th:only-of-type {\n",
       "        vertical-align: middle;\n",
       "    }\n",
       "\n",
       "    .dataframe tbody tr th {\n",
       "        vertical-align: top;\n",
       "    }\n",
       "\n",
       "    .dataframe thead th {\n",
       "        text-align: right;\n",
       "    }\n",
       "</style>\n",
       "<table border=\"1\" class=\"dataframe\">\n",
       "  <thead>\n",
       "    <tr style=\"text-align: right;\">\n",
       "      <th></th>\n",
       "      <th>classification</th>\n",
       "      <th>risk_factor</th>\n",
       "      <th>avg_score</th>\n",
       "      <th>indicator_heat_score</th>\n",
       "      <th>score</th>\n",
       "    </tr>\n",
       "  </thead>\n",
       "  <tbody>\n",
       "    <tr>\n",
       "      <th>1</th>\n",
       "      <td>TP/DE</td>\n",
       "      <td>9.01</td>\n",
       "      <td>308.12</td>\n",
       "      <td>6.58</td>\n",
       "      <td>4249.51</td>\n",
       "    </tr>\n",
       "    <tr>\n",
       "      <th>3</th>\n",
       "      <td>TP/LOW</td>\n",
       "      <td>19.77</td>\n",
       "      <td>1269.50</td>\n",
       "      <td>3.46</td>\n",
       "      <td>29646.16</td>\n",
       "    </tr>\n",
       "    <tr>\n",
       "      <th>0</th>\n",
       "      <td>FP</td>\n",
       "      <td>19.81</td>\n",
       "      <td>135.02</td>\n",
       "      <td>6.08</td>\n",
       "      <td>2457.98</td>\n",
       "    </tr>\n",
       "    <tr>\n",
       "      <th>2</th>\n",
       "      <td>TP/HIGH</td>\n",
       "      <td>22.22</td>\n",
       "      <td>1538.16</td>\n",
       "      <td>2.81</td>\n",
       "      <td>38053.38</td>\n",
       "    </tr>\n",
       "  </tbody>\n",
       "</table>\n",
       "</div>"
      ],
      "text/plain": [
       "  classification  risk_factor  avg_score  indicator_heat_score     score\n",
       "1          TP/DE         9.01     308.12                  6.58   4249.51\n",
       "3         TP/LOW        19.77    1269.50                  3.46  29646.16\n",
       "0             FP        19.81     135.02                  6.08   2457.98\n",
       "2        TP/HIGH        22.22    1538.16                  2.81  38053.38"
      ]
     },
     "execution_count": 7,
     "metadata": {},
     "output_type": "execute_result"
    }
   ],
   "source": [
    "df[['classification','risk_factor','avg_score','indicator_heat_score','score']].groupby(['classification'],as_index=False) \\\n",
    "                                                                               .mean().round(2).sort_values(by='risk_factor')"
   ]
  },
  {
   "cell_type": "code",
   "execution_count": 8,
   "id": "f7d7dbcf-b02f-427e-a2d9-2977ec57bac7",
   "metadata": {},
   "outputs": [
    {
     "data": {
      "text/html": [
       "<div>\n",
       "<style scoped>\n",
       "    .dataframe tbody tr th:only-of-type {\n",
       "        vertical-align: middle;\n",
       "    }\n",
       "\n",
       "    .dataframe tbody tr th {\n",
       "        vertical-align: top;\n",
       "    }\n",
       "\n",
       "    .dataframe thead th {\n",
       "        text-align: right;\n",
       "    }\n",
       "</style>\n",
       "<table border=\"1\" class=\"dataframe\">\n",
       "  <thead>\n",
       "    <tr style=\"text-align: right;\">\n",
       "      <th></th>\n",
       "      <th>alert_type</th>\n",
       "      <th>risk_factor</th>\n",
       "      <th>avg_score</th>\n",
       "      <th>indicator_heat_score</th>\n",
       "      <th>score</th>\n",
       "    </tr>\n",
       "  </thead>\n",
       "  <tbody>\n",
       "    <tr>\n",
       "      <th>0</th>\n",
       "      <td>Atomic</td>\n",
       "      <td>-1.00</td>\n",
       "      <td>-1.00</td>\n",
       "      <td>3.80</td>\n",
       "      <td>10.00</td>\n",
       "    </tr>\n",
       "    <tr>\n",
       "      <th>1</th>\n",
       "      <td>Daily_Heat</td>\n",
       "      <td>5.12</td>\n",
       "      <td>410.72</td>\n",
       "      <td>3.08</td>\n",
       "      <td>2213.03</td>\n",
       "    </tr>\n",
       "    <tr>\n",
       "      <th>3</th>\n",
       "      <td>Weekly_Heat</td>\n",
       "      <td>13.28</td>\n",
       "      <td>589.49</td>\n",
       "      <td>6.67</td>\n",
       "      <td>8211.60</td>\n",
       "    </tr>\n",
       "    <tr>\n",
       "      <th>2</th>\n",
       "      <td>Monthly_Heat</td>\n",
       "      <td>22.13</td>\n",
       "      <td>606.93</td>\n",
       "      <td>7.63</td>\n",
       "      <td>16811.63</td>\n",
       "    </tr>\n",
       "  </tbody>\n",
       "</table>\n",
       "</div>"
      ],
      "text/plain": [
       "     alert_type  risk_factor  avg_score  indicator_heat_score     score\n",
       "0        Atomic        -1.00      -1.00                  3.80     10.00\n",
       "1    Daily_Heat         5.12     410.72                  3.08   2213.03\n",
       "3   Weekly_Heat        13.28     589.49                  6.67   8211.60\n",
       "2  Monthly_Heat        22.13     606.93                  7.63  16811.63"
      ]
     },
     "execution_count": 8,
     "metadata": {},
     "output_type": "execute_result"
    }
   ],
   "source": [
    "df[['alert_type','risk_factor','avg_score','indicator_heat_score','score']].groupby(['alert_type'],as_index=False) \\\n",
    "                                                                           .mean().round(2).sort_values(by='risk_factor')"
   ]
  },
  {
   "cell_type": "code",
   "execution_count": 9,
   "id": "2db5a786-8977-44d8-8c13-324a0ada77fd",
   "metadata": {},
   "outputs": [],
   "source": [
    "ob = pd.read_csv('obfuscated_demo_data2.csv')"
   ]
  },
  {
   "cell_type": "code",
   "execution_count": 10,
   "id": "ea48d177-6aca-4781-ad0e-81cb151d72fd",
   "metadata": {},
   "outputs": [
    {
     "data": {
      "text/plain": [
       "(3159, 11)"
      ]
     },
     "execution_count": 10,
     "metadata": {},
     "output_type": "execute_result"
    }
   ],
   "source": [
    "ob.shape"
   ]
  },
  {
   "cell_type": "code",
   "execution_count": 11,
   "id": "addb5d0e-2e4c-4254-ab90-c7dc9a84f9ce",
   "metadata": {},
   "outputs": [
    {
     "data": {
      "text/plain": [
       "employee_id              0\n",
       "person_type              0\n",
       "person_status            0\n",
       "ge_hire_date           478\n",
       "city                   142\n",
       "state_name             174\n",
       "country_name           174\n",
       "function_group         174\n",
       "job_function             0\n",
       "career_band              0\n",
       "industry_focus_name      0\n",
       "dtype: int64"
      ]
     },
     "execution_count": 11,
     "metadata": {},
     "output_type": "execute_result"
    }
   ],
   "source": [
    "ob.isnull().sum()"
   ]
  },
  {
   "cell_type": "code",
   "execution_count": 12,
   "id": "e1fc310f-3c2e-453e-8fe0-aabaef4cc023",
   "metadata": {},
   "outputs": [
    {
     "data": {
      "text/html": [
       "<div>\n",
       "<style scoped>\n",
       "    .dataframe tbody tr th:only-of-type {\n",
       "        vertical-align: middle;\n",
       "    }\n",
       "\n",
       "    .dataframe tbody tr th {\n",
       "        vertical-align: top;\n",
       "    }\n",
       "\n",
       "    .dataframe thead th {\n",
       "        text-align: right;\n",
       "    }\n",
       "</style>\n",
       "<table border=\"1\" class=\"dataframe\">\n",
       "  <thead>\n",
       "    <tr style=\"text-align: right;\">\n",
       "      <th></th>\n",
       "      <th>employee_id</th>\n",
       "      <th>person_type</th>\n",
       "      <th>person_status</th>\n",
       "      <th>ge_hire_date</th>\n",
       "      <th>city</th>\n",
       "      <th>state_name</th>\n",
       "      <th>country_name</th>\n",
       "      <th>function_group</th>\n",
       "      <th>job_function</th>\n",
       "      <th>career_band</th>\n",
       "      <th>industry_focus_name</th>\n",
       "    </tr>\n",
       "  </thead>\n",
       "  <tbody>\n",
       "    <tr>\n",
       "      <th>0</th>\n",
       "      <td>2163707601</td>\n",
       "      <td>EMPLOYEE</td>\n",
       "      <td>A</td>\n",
       "      <td>9/1/1997 0:00</td>\n",
       "      <td>Reau</td>\n",
       "      <td>No_Data</td>\n",
       "      <td>France</td>\n",
       "      <td>Production</td>\n",
       "      <td>JOB_FUNCTION_7</td>\n",
       "      <td>CAREER_BAND_10</td>\n",
       "      <td>BUSINESS_SEGMENT_4</td>\n",
       "    </tr>\n",
       "    <tr>\n",
       "      <th>1</th>\n",
       "      <td>9225331209</td>\n",
       "      <td>EMPLOYEE</td>\n",
       "      <td>A</td>\n",
       "      <td>8/22/2006 0:00</td>\n",
       "      <td>Dubai</td>\n",
       "      <td>Dubai</td>\n",
       "      <td>United Arab Emirates</td>\n",
       "      <td>Commercial</td>\n",
       "      <td>JOB_FUNCTION_22</td>\n",
       "      <td>CAREER_BAND_9</td>\n",
       "      <td>BUSINESS_SEGMENT_4</td>\n",
       "    </tr>\n",
       "    <tr>\n",
       "      <th>2</th>\n",
       "      <td>9777696464</td>\n",
       "      <td>EMPLOYEE</td>\n",
       "      <td>I</td>\n",
       "      <td>3/1/2007 0:00</td>\n",
       "      <td>Dubai</td>\n",
       "      <td>Dubai</td>\n",
       "      <td>United Arab Emirates</td>\n",
       "      <td>Production</td>\n",
       "      <td>JOB_FUNCTION_24</td>\n",
       "      <td>CAREER_BAND_4</td>\n",
       "      <td>BUSINESS_SEGMENT_4</td>\n",
       "    </tr>\n",
       "    <tr>\n",
       "      <th>3</th>\n",
       "      <td>8893235549</td>\n",
       "      <td>EMPLOYEE</td>\n",
       "      <td>A</td>\n",
       "      <td>9/1/2003 0:00</td>\n",
       "      <td>Dzierzoniow</td>\n",
       "      <td>Lower Silesian</td>\n",
       "      <td>Poland</td>\n",
       "      <td>Enabling</td>\n",
       "      <td>JOB_FUNCTION_10</td>\n",
       "      <td>CAREER_BAND_4</td>\n",
       "      <td>BUSINESS_SEGMENT_4</td>\n",
       "    </tr>\n",
       "    <tr>\n",
       "      <th>4</th>\n",
       "      <td>1310142434</td>\n",
       "      <td>EMPLOYEE</td>\n",
       "      <td>I</td>\n",
       "      <td>9/4/2000 0:00</td>\n",
       "      <td>Veresegyhaz</td>\n",
       "      <td>Pest</td>\n",
       "      <td>Hungary</td>\n",
       "      <td>Production</td>\n",
       "      <td>JOB_FUNCTION_7</td>\n",
       "      <td>CAREER_BAND_10</td>\n",
       "      <td>BUSINESS_SEGMENT_4</td>\n",
       "    </tr>\n",
       "  </tbody>\n",
       "</table>\n",
       "</div>"
      ],
      "text/plain": [
       "   employee_id person_type person_status    ge_hire_date         city  \\\n",
       "0   2163707601    EMPLOYEE             A   9/1/1997 0:00         Reau   \n",
       "1   9225331209    EMPLOYEE             A  8/22/2006 0:00        Dubai   \n",
       "2   9777696464    EMPLOYEE             I   3/1/2007 0:00        Dubai   \n",
       "3   8893235549    EMPLOYEE             A   9/1/2003 0:00  Dzierzoniow   \n",
       "4   1310142434    EMPLOYEE             I   9/4/2000 0:00  Veresegyhaz   \n",
       "\n",
       "       state_name          country_name function_group     job_function  \\\n",
       "0         No_Data                France     Production   JOB_FUNCTION_7   \n",
       "1           Dubai  United Arab Emirates     Commercial  JOB_FUNCTION_22   \n",
       "2           Dubai  United Arab Emirates     Production  JOB_FUNCTION_24   \n",
       "3  Lower Silesian                Poland       Enabling  JOB_FUNCTION_10   \n",
       "4            Pest               Hungary     Production   JOB_FUNCTION_7   \n",
       "\n",
       "      career_band industry_focus_name  \n",
       "0  CAREER_BAND_10  BUSINESS_SEGMENT_4  \n",
       "1   CAREER_BAND_9  BUSINESS_SEGMENT_4  \n",
       "2   CAREER_BAND_4  BUSINESS_SEGMENT_4  \n",
       "3   CAREER_BAND_4  BUSINESS_SEGMENT_4  \n",
       "4  CAREER_BAND_10  BUSINESS_SEGMENT_4  "
      ]
     },
     "execution_count": 12,
     "metadata": {},
     "output_type": "execute_result"
    }
   ],
   "source": [
    "ob.head(5)"
   ]
  },
  {
   "cell_type": "code",
   "execution_count": 13,
   "id": "c59dc2f3-c2d4-4850-a8bb-d05506ccf630",
   "metadata": {},
   "outputs": [
    {
     "name": "stdout",
     "output_type": "stream",
     "text": [
      "employee_id            3157\n",
      "person_type               4\n",
      "person_status             2\n",
      "ge_hire_date           1424\n",
      "city                    171\n",
      "state_name               93\n",
      "country_name             28\n",
      "function_group            3\n",
      "job_function             26\n",
      "career_band              10\n",
      "industry_focus_name      15\n",
      "dtype: int64\n"
     ]
    }
   ],
   "source": [
    "print(ob.nunique())"
   ]
  },
  {
   "cell_type": "code",
   "execution_count": 14,
   "id": "76dad34c-d8dd-4676-af2d-eac200f705cb",
   "metadata": {},
   "outputs": [],
   "source": [
    "plot = ob[['job_function','employee_id']].groupby(['job_function'],as_index=False).count()"
   ]
  },
  {
   "cell_type": "code",
   "execution_count": 15,
   "id": "84783219-b51c-43c4-a166-2338733c04be",
   "metadata": {},
   "outputs": [
    {
     "data": {
      "text/plain": [
       "<AxesSubplot:xlabel='employee_id', ylabel='job_function'>"
      ]
     },
     "execution_count": 15,
     "metadata": {},
     "output_type": "execute_result"
    },
    {
     "data": {
      "image/png": "[encoded data removed]",
      "text/plain": [
       "<Figure size 1080x576 with 1 Axes>"
      ]
     },
     "metadata": {
      "needs_background": "light"
     },
     "output_type": "display_data"
    }
   ],
   "source": [
    "import seaborn as sns\n",
    "from matplotlib import rcParams\n",
    "import matplotlib.pyplot as plt\n",
    "\n",
    "plt.figure(figsize = (15,8))\n",
    "#rcParams['figure.figsize'] = 15,8\n",
    "sns.barplot(y='job_function',x='employee_id', data=plot, orient=\"h\")\n",
    "#plt.xticks(rotation=60)"
   ]
  },
  {
   "cell_type": "code",
   "execution_count": 16,
   "id": "e5868064-9911-462a-bd64-4c94f0410ec2",
   "metadata": {},
   "outputs": [
    {
     "data": {
      "text/plain": [
       "array([<AxesSubplot:ylabel='employee_id'>], dtype=object)"
      ]
     },
     "execution_count": 16,
     "metadata": {},
     "output_type": "execute_result"
    },
    {
     "data": {
      "image/png": "[encoded data removed]",
      "text/plain": [
       "<Figure size 792x432 with 1 Axes>"
      ]
     },
     "metadata": {},
     "output_type": "display_data"
    }
   ],
   "source": [
    "ob[['function_group','employee_id']].groupby(['function_group']).count().plot.pie(subplots=True, figsize=(11, 6))"
   ]
  },
  {
   "cell_type": "code",
   "execution_count": 17,
   "id": "ab4ab71b-7055-43b8-b6f6-3d760cb40131",
   "metadata": {},
   "outputs": [],
   "source": [
    "indicator_pair = pd.read_csv('indicator_pairs_data_updated.csv')"
   ]
  },
  {
   "cell_type": "code",
   "execution_count": 18,
   "id": "6473edbb-f8ea-4688-8b46-5558c10e9b09",
   "metadata": {},
   "outputs": [
    {
     "data": {
      "text/html": [
       "<div>\n",
       "<style scoped>\n",
       "    .dataframe tbody tr th:only-of-type {\n",
       "        vertical-align: middle;\n",
       "    }\n",
       "\n",
       "    .dataframe tbody tr th {\n",
       "        vertical-align: top;\n",
       "    }\n",
       "\n",
       "    .dataframe thead th {\n",
       "        text-align: right;\n",
       "    }\n",
       "</style>\n",
       "<table border=\"1\" class=\"dataframe\">\n",
       "  <thead>\n",
       "    <tr style=\"text-align: right;\">\n",
       "      <th></th>\n",
       "      <th>alert_escalation_date</th>\n",
       "      <th>alert_id_fk</th>\n",
       "      <th>insert_date</th>\n",
       "      <th>score</th>\n",
       "      <th>owner_name</th>\n",
       "      <th>employee_id</th>\n",
       "      <th>risk_factor</th>\n",
       "      <th>avg_score</th>\n",
       "      <th>classification</th>\n",
       "      <th>hru</th>\n",
       "      <th>alert_category</th>\n",
       "      <th>alert_type</th>\n",
       "      <th>indicator_pairs</th>\n",
       "    </tr>\n",
       "  </thead>\n",
       "  <tbody>\n",
       "    <tr>\n",
       "      <th>0</th>\n",
       "      <td>1/17/18</td>\n",
       "      <td>903129831</td>\n",
       "      <td>12/20/17</td>\n",
       "      <td>10</td>\n",
       "      <td>Senior_Analyst_1</td>\n",
       "      <td>5160501257</td>\n",
       "      <td>-1.0</td>\n",
       "      <td>-1</td>\n",
       "      <td>TP/DE</td>\n",
       "      <td>HRU11</td>\n",
       "      <td>Atomic</td>\n",
       "      <td>Atomic</td>\n",
       "      <td>App_9_Atomic_DVD_Burn_IND</td>\n",
       "    </tr>\n",
       "    <tr>\n",
       "      <th>1</th>\n",
       "      <td>1/17/18</td>\n",
       "      <td>184172653</td>\n",
       "      <td>12/20/17</td>\n",
       "      <td>10</td>\n",
       "      <td>Senior_Analyst_1</td>\n",
       "      <td>5160501257</td>\n",
       "      <td>-1.0</td>\n",
       "      <td>-1</td>\n",
       "      <td>TP/DE</td>\n",
       "      <td>HRU11</td>\n",
       "      <td>Atomic</td>\n",
       "      <td>Atomic</td>\n",
       "      <td>App_9_Atomic_DVD_Burn_IND</td>\n",
       "    </tr>\n",
       "    <tr>\n",
       "      <th>2</th>\n",
       "      <td>1/17/18</td>\n",
       "      <td>1144943035</td>\n",
       "      <td>12/20/17</td>\n",
       "      <td>10</td>\n",
       "      <td>Senior_Analyst_1</td>\n",
       "      <td>5160501257</td>\n",
       "      <td>-1.0</td>\n",
       "      <td>-1</td>\n",
       "      <td>TP/DE</td>\n",
       "      <td>HRU11</td>\n",
       "      <td>Atomic</td>\n",
       "      <td>Atomic</td>\n",
       "      <td>App_9_Atomic_DVD_Burn_IND</td>\n",
       "    </tr>\n",
       "    <tr>\n",
       "      <th>3</th>\n",
       "      <td>1/17/18</td>\n",
       "      <td>1478996666</td>\n",
       "      <td>12/20/17</td>\n",
       "      <td>10</td>\n",
       "      <td>Senior_Analyst_1</td>\n",
       "      <td>5160501257</td>\n",
       "      <td>-1.0</td>\n",
       "      <td>-1</td>\n",
       "      <td>TP/DE</td>\n",
       "      <td>HRU11</td>\n",
       "      <td>Atomic</td>\n",
       "      <td>Atomic</td>\n",
       "      <td>App_9_Atomic_DVD_Burn_IND</td>\n",
       "    </tr>\n",
       "    <tr>\n",
       "      <th>4</th>\n",
       "      <td>1/17/18</td>\n",
       "      <td>942102898</td>\n",
       "      <td>12/20/17</td>\n",
       "      <td>10</td>\n",
       "      <td>Senior_Analyst_1</td>\n",
       "      <td>5160501257</td>\n",
       "      <td>-1.0</td>\n",
       "      <td>-1</td>\n",
       "      <td>TP/DE</td>\n",
       "      <td>HRU11</td>\n",
       "      <td>Atomic</td>\n",
       "      <td>Atomic</td>\n",
       "      <td>App_9_Atomic_DVD_Burn_IND</td>\n",
       "    </tr>\n",
       "  </tbody>\n",
       "</table>\n",
       "</div>"
      ],
      "text/plain": [
       "  alert_escalation_date  alert_id_fk insert_date  score        owner_name  \\\n",
       "0               1/17/18    903129831    12/20/17     10  Senior_Analyst_1   \n",
       "1               1/17/18    184172653    12/20/17     10  Senior_Analyst_1   \n",
       "2               1/17/18   1144943035    12/20/17     10  Senior_Analyst_1   \n",
       "3               1/17/18   1478996666    12/20/17     10  Senior_Analyst_1   \n",
       "4               1/17/18    942102898    12/20/17     10  Senior_Analyst_1   \n",
       "\n",
       "   employee_id  risk_factor  avg_score classification    hru alert_category  \\\n",
       "0   5160501257         -1.0         -1          TP/DE  HRU11         Atomic   \n",
       "1   5160501257         -1.0         -1          TP/DE  HRU11         Atomic   \n",
       "2   5160501257         -1.0         -1          TP/DE  HRU11         Atomic   \n",
       "3   5160501257         -1.0         -1          TP/DE  HRU11         Atomic   \n",
       "4   5160501257         -1.0         -1          TP/DE  HRU11         Atomic   \n",
       "\n",
       "  alert_type            indicator_pairs  \n",
       "0     Atomic  App_9_Atomic_DVD_Burn_IND  \n",
       "1     Atomic  App_9_Atomic_DVD_Burn_IND  \n",
       "2     Atomic  App_9_Atomic_DVD_Burn_IND  \n",
       "3     Atomic  App_9_Atomic_DVD_Burn_IND  \n",
       "4     Atomic  App_9_Atomic_DVD_Burn_IND  "
      ]
     },
     "execution_count": 18,
     "metadata": {},
     "output_type": "execute_result"
    }
   ],
   "source": [
    "indicator_pair.head(5)"
   ]
  },
  {
   "cell_type": "code",
   "execution_count": 19,
   "id": "9df0a473-3f81-4c99-a4dd-faa6231be4bb",
   "metadata": {},
   "outputs": [
    {
     "data": {
      "text/html": [
       "<div>\n",
       "<style scoped>\n",
       "    .dataframe tbody tr th:only-of-type {\n",
       "        vertical-align: middle;\n",
       "    }\n",
       "\n",
       "    .dataframe tbody tr th {\n",
       "        vertical-align: top;\n",
       "    }\n",
       "\n",
       "    .dataframe thead th {\n",
       "        text-align: right;\n",
       "    }\n",
       "</style>\n",
       "<table border=\"1\" class=\"dataframe\">\n",
       "  <thead>\n",
       "    <tr style=\"text-align: right;\">\n",
       "      <th></th>\n",
       "      <th>classification</th>\n",
       "      <th>alert_escalation_date</th>\n",
       "      <th>alert_id_fk</th>\n",
       "      <th>insert_date</th>\n",
       "      <th>score</th>\n",
       "      <th>employee_id</th>\n",
       "      <th>risk_factor</th>\n",
       "      <th>avg_score</th>\n",
       "      <th>hru</th>\n",
       "      <th>indicators</th>\n",
       "      <th>alert_category</th>\n",
       "      <th>alert_type</th>\n",
       "      <th>indicator_source</th>\n",
       "      <th>indicator_heat_score</th>\n",
       "    </tr>\n",
       "  </thead>\n",
       "  <tbody>\n",
       "    <tr>\n",
       "      <th>0</th>\n",
       "      <td>TP/DE</td>\n",
       "      <td>1/2/19</td>\n",
       "      <td>1926516433</td>\n",
       "      <td>12/21/18</td>\n",
       "      <td>400</td>\n",
       "      <td>31037207271</td>\n",
       "      <td>3.636364</td>\n",
       "      <td>110</td>\n",
       "      <td>None</td>\n",
       "      <td>App_9_Heat_Email_IND</td>\n",
       "      <td>Heat</td>\n",
       "      <td>Daily_Heat</td>\n",
       "      <td>App_9</td>\n",
       "      <td>3.0</td>\n",
       "    </tr>\n",
       "    <tr>\n",
       "      <th>1</th>\n",
       "      <td>TP/DE</td>\n",
       "      <td>1/2/19</td>\n",
       "      <td>1926516433</td>\n",
       "      <td>12/21/18</td>\n",
       "      <td>400</td>\n",
       "      <td>31037207271</td>\n",
       "      <td>3.636364</td>\n",
       "      <td>110</td>\n",
       "      <td>None</td>\n",
       "      <td>App_3_Heat_Email_ZIP</td>\n",
       "      <td>Heat</td>\n",
       "      <td>Daily_Heat</td>\n",
       "      <td>App_3</td>\n",
       "      <td>5.0</td>\n",
       "    </tr>\n",
       "    <tr>\n",
       "      <th>2</th>\n",
       "      <td>TP/DE</td>\n",
       "      <td>1/2/19</td>\n",
       "      <td>1926516433</td>\n",
       "      <td>12/21/18</td>\n",
       "      <td>400</td>\n",
       "      <td>31037207271</td>\n",
       "      <td>3.636364</td>\n",
       "      <td>110</td>\n",
       "      <td>None</td>\n",
       "      <td>Threshold_Heat_Email_IND</td>\n",
       "      <td>Heat</td>\n",
       "      <td>Daily_Heat</td>\n",
       "      <td>Threshold</td>\n",
       "      <td>0.0</td>\n",
       "    </tr>\n",
       "    <tr>\n",
       "      <th>3</th>\n",
       "      <td>TP/LOW</td>\n",
       "      <td>1/2/19</td>\n",
       "      <td>988775910</td>\n",
       "      <td>12/21/18</td>\n",
       "      <td>10</td>\n",
       "      <td>7278169210</td>\n",
       "      <td>-1.000000</td>\n",
       "      <td>-1</td>\n",
       "      <td>None</td>\n",
       "      <td>App_13_Atomic_Email_IND</td>\n",
       "      <td>Atomic</td>\n",
       "      <td>Atomic</td>\n",
       "      <td>App_13</td>\n",
       "      <td>NaN</td>\n",
       "    </tr>\n",
       "    <tr>\n",
       "      <th>4</th>\n",
       "      <td>TP/DE</td>\n",
       "      <td>1/2/19</td>\n",
       "      <td>1973699404</td>\n",
       "      <td>12/21/18</td>\n",
       "      <td>416</td>\n",
       "      <td>31037207271</td>\n",
       "      <td>3.714286</td>\n",
       "      <td>112</td>\n",
       "      <td>None</td>\n",
       "      <td>App_9_Heat_Email_IND</td>\n",
       "      <td>Heat</td>\n",
       "      <td>Daily_Heat</td>\n",
       "      <td>App_9</td>\n",
       "      <td>3.0</td>\n",
       "    </tr>\n",
       "  </tbody>\n",
       "</table>\n",
       "</div>"
      ],
      "text/plain": [
       "  classification alert_escalation_date  alert_id_fk insert_date  score  \\\n",
       "0          TP/DE                1/2/19   1926516433    12/21/18    400   \n",
       "1          TP/DE                1/2/19   1926516433    12/21/18    400   \n",
       "2          TP/DE                1/2/19   1926516433    12/21/18    400   \n",
       "3         TP/LOW                1/2/19    988775910    12/21/18     10   \n",
       "4          TP/DE                1/2/19   1973699404    12/21/18    416   \n",
       "\n",
       "   employee_id  risk_factor  avg_score   hru                indicators  \\\n",
       "0  31037207271     3.636364        110  None      App_9_Heat_Email_IND   \n",
       "1  31037207271     3.636364        110  None      App_3_Heat_Email_ZIP   \n",
       "2  31037207271     3.636364        110  None  Threshold_Heat_Email_IND   \n",
       "3   7278169210    -1.000000         -1  None   App_13_Atomic_Email_IND   \n",
       "4  31037207271     3.714286        112  None      App_9_Heat_Email_IND   \n",
       "\n",
       "  alert_category  alert_type indicator_source  indicator_heat_score  \n",
       "0           Heat  Daily_Heat            App_9                   3.0  \n",
       "1           Heat  Daily_Heat            App_3                   5.0  \n",
       "2           Heat  Daily_Heat        Threshold                   0.0  \n",
       "3         Atomic      Atomic           App_13                   NaN  \n",
       "4           Heat  Daily_Heat            App_9                   3.0  "
      ]
     },
     "execution_count": 19,
     "metadata": {},
     "output_type": "execute_result"
    }
   ],
   "source": [
    "df.head(5)"
   ]
  },
  {
   "cell_type": "code",
   "execution_count": 20,
   "id": "3845f781-b7c9-491a-8874-fab8cbfd9a56",
   "metadata": {},
   "outputs": [
    {
     "data": {
      "text/plain": [
       "(99246, 14)"
      ]
     },
     "execution_count": 20,
     "metadata": {},
     "output_type": "execute_result"
    }
   ],
   "source": [
    "df.shape"
   ]
  },
  {
   "cell_type": "code",
   "execution_count": 21,
   "id": "24790d38-e168-4e11-892d-0a9edf6a038d",
   "metadata": {},
   "outputs": [
    {
     "data": {
      "text/plain": [
       "(132079, 13)"
      ]
     },
     "execution_count": 21,
     "metadata": {},
     "output_type": "execute_result"
    }
   ],
   "source": [
    "indicator_pair.shape"
   ]
  },
  {
   "cell_type": "code",
   "execution_count": 22,
   "id": "d43aec29-8511-413e-ba0a-fa8415d28030",
   "metadata": {},
   "outputs": [],
   "source": [
    "# \n",
    "merge = pd.merge(df,indicator_pair,how='left', on=['classification', 'alert_escalation_date', 'alert_id_fk', 'insert_date',\n",
    "                                                   'score', 'employee_id', 'risk_factor', 'avg_score', 'hru','alert_category', 'alert_type'])"
   ]
  },
  {
   "cell_type": "code",
   "execution_count": 23,
   "id": "09d685ae-00ef-4f1b-8e97-1a17c62f9b33",
   "metadata": {},
   "outputs": [],
   "source": [
    "final = pd.merge(merge, ob, on='employee_id', how='left')"
   ]
  },
  {
   "cell_type": "code",
   "execution_count": 24,
   "id": "5c53174c-bb6d-47e7-856f-d5d5d51c9a71",
   "metadata": {},
   "outputs": [
    {
     "data": {
      "text/plain": [
       "(99254, 26)"
      ]
     },
     "execution_count": 24,
     "metadata": {},
     "output_type": "execute_result"
    }
   ],
   "source": [
    "final.shape"
   ]
  },
  {
   "cell_type": "code",
   "execution_count": 25,
   "id": "28a53fd6-3c70-4d29-89db-420334e43c6a",
   "metadata": {},
   "outputs": [
    {
     "data": {
      "text/html": [
       "<div>\n",
       "<style scoped>\n",
       "    .dataframe tbody tr th:only-of-type {\n",
       "        vertical-align: middle;\n",
       "    }\n",
       "\n",
       "    .dataframe tbody tr th {\n",
       "        vertical-align: top;\n",
       "    }\n",
       "\n",
       "    .dataframe thead th {\n",
       "        text-align: right;\n",
       "    }\n",
       "</style>\n",
       "<table border=\"1\" class=\"dataframe\">\n",
       "  <thead>\n",
       "    <tr style=\"text-align: right;\">\n",
       "      <th></th>\n",
       "      <th>classification</th>\n",
       "      <th>alert_escalation_date</th>\n",
       "      <th>alert_id_fk</th>\n",
       "      <th>insert_date</th>\n",
       "      <th>score</th>\n",
       "      <th>employee_id</th>\n",
       "      <th>risk_factor</th>\n",
       "      <th>avg_score</th>\n",
       "      <th>hru</th>\n",
       "      <th>indicators</th>\n",
       "      <th>...</th>\n",
       "      <th>person_type</th>\n",
       "      <th>person_status</th>\n",
       "      <th>ge_hire_date</th>\n",
       "      <th>city</th>\n",
       "      <th>state_name</th>\n",
       "      <th>country_name</th>\n",
       "      <th>function_group</th>\n",
       "      <th>job_function</th>\n",
       "      <th>career_band</th>\n",
       "      <th>industry_focus_name</th>\n",
       "    </tr>\n",
       "  </thead>\n",
       "  <tbody>\n",
       "    <tr>\n",
       "      <th>0</th>\n",
       "      <td>TP/DE</td>\n",
       "      <td>1/2/19</td>\n",
       "      <td>1926516433</td>\n",
       "      <td>12/21/18</td>\n",
       "      <td>400</td>\n",
       "      <td>31037207271</td>\n",
       "      <td>3.636364</td>\n",
       "      <td>110</td>\n",
       "      <td>None</td>\n",
       "      <td>App_9_Heat_Email_IND</td>\n",
       "      <td>...</td>\n",
       "      <td>CONTRACTOR</td>\n",
       "      <td>I</td>\n",
       "      <td>NaN</td>\n",
       "      <td>Petropolis</td>\n",
       "      <td>NaN</td>\n",
       "      <td>NaN</td>\n",
       "      <td>NaN</td>\n",
       "      <td>JOB_FUNCTION_24</td>\n",
       "      <td>CAREER_BAND_1</td>\n",
       "      <td>BUSINESS_SEGMENT_4</td>\n",
       "    </tr>\n",
       "    <tr>\n",
       "      <th>1</th>\n",
       "      <td>TP/DE</td>\n",
       "      <td>1/2/19</td>\n",
       "      <td>1926516433</td>\n",
       "      <td>12/21/18</td>\n",
       "      <td>400</td>\n",
       "      <td>31037207271</td>\n",
       "      <td>3.636364</td>\n",
       "      <td>110</td>\n",
       "      <td>None</td>\n",
       "      <td>App_3_Heat_Email_ZIP</td>\n",
       "      <td>...</td>\n",
       "      <td>CONTRACTOR</td>\n",
       "      <td>I</td>\n",
       "      <td>NaN</td>\n",
       "      <td>Petropolis</td>\n",
       "      <td>NaN</td>\n",
       "      <td>NaN</td>\n",
       "      <td>NaN</td>\n",
       "      <td>JOB_FUNCTION_24</td>\n",
       "      <td>CAREER_BAND_1</td>\n",
       "      <td>BUSINESS_SEGMENT_4</td>\n",
       "    </tr>\n",
       "    <tr>\n",
       "      <th>2</th>\n",
       "      <td>TP/DE</td>\n",
       "      <td>1/2/19</td>\n",
       "      <td>1926516433</td>\n",
       "      <td>12/21/18</td>\n",
       "      <td>400</td>\n",
       "      <td>31037207271</td>\n",
       "      <td>3.636364</td>\n",
       "      <td>110</td>\n",
       "      <td>None</td>\n",
       "      <td>Threshold_Heat_Email_IND</td>\n",
       "      <td>...</td>\n",
       "      <td>CONTRACTOR</td>\n",
       "      <td>I</td>\n",
       "      <td>NaN</td>\n",
       "      <td>Petropolis</td>\n",
       "      <td>NaN</td>\n",
       "      <td>NaN</td>\n",
       "      <td>NaN</td>\n",
       "      <td>JOB_FUNCTION_24</td>\n",
       "      <td>CAREER_BAND_1</td>\n",
       "      <td>BUSINESS_SEGMENT_4</td>\n",
       "    </tr>\n",
       "    <tr>\n",
       "      <th>3</th>\n",
       "      <td>TP/LOW</td>\n",
       "      <td>1/2/19</td>\n",
       "      <td>988775910</td>\n",
       "      <td>12/21/18</td>\n",
       "      <td>10</td>\n",
       "      <td>7278169210</td>\n",
       "      <td>-1.000000</td>\n",
       "      <td>-1</td>\n",
       "      <td>None</td>\n",
       "      <td>App_13_Atomic_Email_IND</td>\n",
       "      <td>...</td>\n",
       "      <td>EMPLOYEE</td>\n",
       "      <td>I</td>\n",
       "      <td>1/23/2006 0:00</td>\n",
       "      <td>Newark</td>\n",
       "      <td>Delaware</td>\n",
       "      <td>United States</td>\n",
       "      <td>Production</td>\n",
       "      <td>JOB_FUNCTION_16</td>\n",
       "      <td>CAREER_BAND_10</td>\n",
       "      <td>BUSINESS_SEGMENT_4</td>\n",
       "    </tr>\n",
       "    <tr>\n",
       "      <th>4</th>\n",
       "      <td>TP/DE</td>\n",
       "      <td>1/2/19</td>\n",
       "      <td>1973699404</td>\n",
       "      <td>12/21/18</td>\n",
       "      <td>416</td>\n",
       "      <td>31037207271</td>\n",
       "      <td>3.714286</td>\n",
       "      <td>112</td>\n",
       "      <td>None</td>\n",
       "      <td>App_9_Heat_Email_IND</td>\n",
       "      <td>...</td>\n",
       "      <td>CONTRACTOR</td>\n",
       "      <td>I</td>\n",
       "      <td>NaN</td>\n",
       "      <td>Petropolis</td>\n",
       "      <td>NaN</td>\n",
       "      <td>NaN</td>\n",
       "      <td>NaN</td>\n",
       "      <td>JOB_FUNCTION_24</td>\n",
       "      <td>CAREER_BAND_1</td>\n",
       "      <td>BUSINESS_SEGMENT_4</td>\n",
       "    </tr>\n",
       "  </tbody>\n",
       "</table>\n",
       "<p>5 rows × 26 columns</p>\n",
       "</div>"
      ],
      "text/plain": [
       "  classification alert_escalation_date  alert_id_fk insert_date  score  \\\n",
       "0          TP/DE                1/2/19   1926516433    12/21/18    400   \n",
       "1          TP/DE                1/2/19   1926516433    12/21/18    400   \n",
       "2          TP/DE                1/2/19   1926516433    12/21/18    400   \n",
       "3         TP/LOW                1/2/19    988775910    12/21/18     10   \n",
       "4          TP/DE                1/2/19   1973699404    12/21/18    416   \n",
       "\n",
       "   employee_id  risk_factor  avg_score   hru                indicators  ...  \\\n",
       "0  31037207271     3.636364        110  None      App_9_Heat_Email_IND  ...   \n",
       "1  31037207271     3.636364        110  None      App_3_Heat_Email_ZIP  ...   \n",
       "2  31037207271     3.636364        110  None  Threshold_Heat_Email_IND  ...   \n",
       "3   7278169210    -1.000000         -1  None   App_13_Atomic_Email_IND  ...   \n",
       "4  31037207271     3.714286        112  None      App_9_Heat_Email_IND  ...   \n",
       "\n",
       "  person_type person_status    ge_hire_date        city state_name  \\\n",
       "0  CONTRACTOR             I             NaN  Petropolis        NaN   \n",
       "1  CONTRACTOR             I             NaN  Petropolis        NaN   \n",
       "2  CONTRACTOR             I             NaN  Petropolis        NaN   \n",
       "3    EMPLOYEE             I  1/23/2006 0:00      Newark   Delaware   \n",
       "4  CONTRACTOR             I             NaN  Petropolis        NaN   \n",
       "\n",
       "    country_name function_group     job_function     career_band  \\\n",
       "0            NaN            NaN  JOB_FUNCTION_24   CAREER_BAND_1   \n",
       "1            NaN            NaN  JOB_FUNCTION_24   CAREER_BAND_1   \n",
       "2            NaN            NaN  JOB_FUNCTION_24   CAREER_BAND_1   \n",
       "3  United States     Production  JOB_FUNCTION_16  CAREER_BAND_10   \n",
       "4            NaN            NaN  JOB_FUNCTION_24   CAREER_BAND_1   \n",
       "\n",
       "  industry_focus_name  \n",
       "0  BUSINESS_SEGMENT_4  \n",
       "1  BUSINESS_SEGMENT_4  \n",
       "2  BUSINESS_SEGMENT_4  \n",
       "3  BUSINESS_SEGMENT_4  \n",
       "4  BUSINESS_SEGMENT_4  \n",
       "\n",
       "[5 rows x 26 columns]"
      ]
     },
     "execution_count": 25,
     "metadata": {},
     "output_type": "execute_result"
    }
   ],
   "source": [
    "final.head(5)"
   ]
  },
  {
   "cell_type": "code",
   "execution_count": 26,
   "id": "b3e67256-0821-41ae-ad32-75c471ea0178",
   "metadata": {},
   "outputs": [
    {
     "data": {
      "text/plain": [
       "None     74765\n",
       "HRU11    16976\n",
       "HRU5      2319\n",
       "HRU2      1184\n",
       "HRU12     1019\n",
       "HRU7       875\n",
       "HRU13      842\n",
       "HRU18      641\n",
       "HRU19      319\n",
       "HRU8       228\n",
       "HRU3        57\n",
       "HRU6        29\n",
       "Name: hru, dtype: int64"
      ]
     },
     "execution_count": 26,
     "metadata": {},
     "output_type": "execute_result"
    }
   ],
   "source": [
    "final['hru'].value_counts()"
   ]
  },
  {
   "cell_type": "code",
   "execution_count": 27,
   "id": "d2900f1c-df80-421e-b53c-d5091d415b09",
   "metadata": {},
   "outputs": [],
   "source": [
    " plot = final[['classification','alert_type','employee_id']].groupby(['classification','alert_type'],as_index=False).count()"
   ]
  },
  {
   "cell_type": "code",
   "execution_count": 28,
   "id": "a4de1e6f-1580-49af-b9a4-a6f0eb4eac3b",
   "metadata": {},
   "outputs": [
    {
     "data": {
      "text/plain": [
       "Text(0.5, 0, 'Count')"
      ]
     },
     "execution_count": 28,
     "metadata": {},
     "output_type": "execute_result"
    },
    {
     "data": {
      "image/png": "[encoded data removed]",
      "text/plain": [
       "<Figure size 432x288 with 1 Axes>"
      ]
     },
     "metadata": {
      "needs_background": "light"
     },
     "output_type": "display_data"
    }
   ],
   "source": [
    "fig,ax=plt.subplots()\n",
    "#plt.figure(figsize = (15,8))\n",
    "ax = sns.barplot(y='classification',x='employee_id',hue='alert_type', data=plot, orient=\"h\",alpha=.8, palette = \"viridis\")\n",
    "plt.xlabel(\"Count\")"
   ]
  },
  {
   "cell_type": "code",
   "execution_count": 29,
   "id": "068d39fb-17c2-48b3-ae4d-749b00c01f9b",
   "metadata": {},
   "outputs": [],
   "source": [
    " plot = final[['classification','job_function','employee_id']].groupby(['classification','job_function'],as_index=False).count()"
   ]
  },
  {
   "cell_type": "code",
   "execution_count": 30,
   "id": "89c65c40-60a7-4885-a2a4-b91cbda7af8f",
   "metadata": {},
   "outputs": [
    {
     "data": {
      "text/plain": [
       "<matplotlib.legend.Legend at 0x7ff1934e3dc0>"
      ]
     },
     "execution_count": 30,
     "metadata": {},
     "output_type": "execute_result"
    },
    {
     "data": {
      "image/png": "[encoded data removed]",
      "text/plain": [
       "<Figure size 1440x576 with 1 Axes>"
      ]
     },
     "metadata": {
      "needs_background": "light"
     },
     "output_type": "display_data"
    }
   ],
   "source": [
    "plt.figure(figsize = (20,8))\n",
    "sns.barplot(x='classification',y='employee_id',hue='job_function', data=plot, orient=\"v\",alpha=.8, palette = \"Paired\")\n",
    "plt.xlabel(\"Classification\")\n",
    "plt.ylabel(\"Count\")\n",
    "plt.legend(bbox_to_anchor=(1.04, 1))"
   ]
  },
  {
   "cell_type": "code",
   "execution_count": 31,
   "id": "aae18914-36e8-4820-b2e3-5ad7fa312336",
   "metadata": {},
   "outputs": [
    {
     "data": {
      "text/plain": [
       "Index(['classification', 'alert_escalation_date', 'alert_id_fk', 'insert_date',\n",
       "       'score', 'employee_id', 'risk_factor', 'avg_score', 'hru', 'indicators',\n",
       "       'alert_category', 'alert_type', 'indicator_source',\n",
       "       'indicator_heat_score', 'owner_name', 'indicator_pairs', 'person_type',\n",
       "       'person_status', 'ge_hire_date', 'city', 'state_name', 'country_name',\n",
       "       'function_group', 'job_function', 'career_band', 'industry_focus_name'],\n",
       "      dtype='object')"
      ]
     },
     "execution_count": 31,
     "metadata": {},
     "output_type": "execute_result"
    }
   ],
   "source": [
    "final.columns"
   ]
  },
  {
   "cell_type": "code",
   "execution_count": 32,
   "id": "8fd04af8-1164-4819-b459-88a36f1bbfbc",
   "metadata": {},
   "outputs": [
    {
     "data": {
      "text/plain": [
       "Heat      78084\n",
       "Atomic    21170\n",
       "Name: alert_category, dtype: int64"
      ]
     },
     "execution_count": 32,
     "metadata": {},
     "output_type": "execute_result"
    }
   ],
   "source": [
    "final['alert_category'].value_counts()"
   ]
  },
  {
   "cell_type": "code",
   "execution_count": 33,
   "id": "d25cf493-a4d5-4c80-986b-c2494f3e3517",
   "metadata": {},
   "outputs": [
    {
     "data": {
      "text/plain": [
       "CAREER_BAND_10    33308\n",
       "CAREER_BAND_4     29065\n",
       "CAREER_BAND_6     12956\n",
       "CAREER_BAND_8      6348\n",
       "CAREER_BAND_7      4725\n",
       "CAREER_BAND_1      4276\n",
       "CAREER_BAND_3      3138\n",
       "CAREER_BAND_5      2890\n",
       "CAREER_BAND_2      2510\n",
       "CAREER_BAND_9        38\n",
       "Name: career_band, dtype: int64"
      ]
     },
     "execution_count": 33,
     "metadata": {},
     "output_type": "execute_result"
    }
   ],
   "source": [
    "final['career_band'].value_counts()"
   ]
  },
  {
   "cell_type": "code",
   "execution_count": 34,
   "id": "5b5dc3bb-6ad3-4664-931a-e99a30d205d1",
   "metadata": {},
   "outputs": [],
   "source": [
    "drop_cols = ['alert_escalation_date', 'alert_id_fk', 'insert_date','employee_id','alert_category','indicator_source','indicator_pairs','person_type',\n",
    "       'person_status', 'ge_hire_date', 'city', 'state_name', 'country_name']\n",
    "final_df = final.drop(drop_cols,axis=1)"
   ]
  },
  {
   "cell_type": "code",
   "execution_count": 35,
   "id": "cbc7b2eb-7048-40bc-b9bb-2498ed31c275",
   "metadata": {},
   "outputs": [
    {
     "data": {
      "text/html": [
       "<div>\n",
       "<style scoped>\n",
       "    .dataframe tbody tr th:only-of-type {\n",
       "        vertical-align: middle;\n",
       "    }\n",
       "\n",
       "    .dataframe tbody tr th {\n",
       "        vertical-align: top;\n",
       "    }\n",
       "\n",
       "    .dataframe thead th {\n",
       "        text-align: right;\n",
       "    }\n",
       "</style>\n",
       "<table border=\"1\" class=\"dataframe\">\n",
       "  <thead>\n",
       "    <tr style=\"text-align: right;\">\n",
       "      <th></th>\n",
       "      <th>classification</th>\n",
       "      <th>score</th>\n",
       "      <th>risk_factor</th>\n",
       "      <th>avg_score</th>\n",
       "      <th>hru</th>\n",
       "      <th>indicators</th>\n",
       "      <th>alert_type</th>\n",
       "      <th>indicator_heat_score</th>\n",
       "      <th>owner_name</th>\n",
       "      <th>function_group</th>\n",
       "      <th>job_function</th>\n",
       "      <th>career_band</th>\n",
       "      <th>industry_focus_name</th>\n",
       "    </tr>\n",
       "  </thead>\n",
       "  <tbody>\n",
       "    <tr>\n",
       "      <th>0</th>\n",
       "      <td>TP/DE</td>\n",
       "      <td>400</td>\n",
       "      <td>3.636364</td>\n",
       "      <td>110</td>\n",
       "      <td>None</td>\n",
       "      <td>App_9_Heat_Email_IND</td>\n",
       "      <td>Daily_Heat</td>\n",
       "      <td>3.0</td>\n",
       "      <td>Analyst_4</td>\n",
       "      <td>NaN</td>\n",
       "      <td>JOB_FUNCTION_24</td>\n",
       "      <td>CAREER_BAND_1</td>\n",
       "      <td>BUSINESS_SEGMENT_4</td>\n",
       "    </tr>\n",
       "    <tr>\n",
       "      <th>1</th>\n",
       "      <td>TP/DE</td>\n",
       "      <td>400</td>\n",
       "      <td>3.636364</td>\n",
       "      <td>110</td>\n",
       "      <td>None</td>\n",
       "      <td>App_3_Heat_Email_ZIP</td>\n",
       "      <td>Daily_Heat</td>\n",
       "      <td>5.0</td>\n",
       "      <td>Analyst_4</td>\n",
       "      <td>NaN</td>\n",
       "      <td>JOB_FUNCTION_24</td>\n",
       "      <td>CAREER_BAND_1</td>\n",
       "      <td>BUSINESS_SEGMENT_4</td>\n",
       "    </tr>\n",
       "    <tr>\n",
       "      <th>2</th>\n",
       "      <td>TP/DE</td>\n",
       "      <td>400</td>\n",
       "      <td>3.636364</td>\n",
       "      <td>110</td>\n",
       "      <td>None</td>\n",
       "      <td>Threshold_Heat_Email_IND</td>\n",
       "      <td>Daily_Heat</td>\n",
       "      <td>0.0</td>\n",
       "      <td>Analyst_4</td>\n",
       "      <td>NaN</td>\n",
       "      <td>JOB_FUNCTION_24</td>\n",
       "      <td>CAREER_BAND_1</td>\n",
       "      <td>BUSINESS_SEGMENT_4</td>\n",
       "    </tr>\n",
       "    <tr>\n",
       "      <th>3</th>\n",
       "      <td>TP/LOW</td>\n",
       "      <td>10</td>\n",
       "      <td>-1.000000</td>\n",
       "      <td>-1</td>\n",
       "      <td>None</td>\n",
       "      <td>App_13_Atomic_Email_IND</td>\n",
       "      <td>Atomic</td>\n",
       "      <td>NaN</td>\n",
       "      <td>Analyst_4</td>\n",
       "      <td>Production</td>\n",
       "      <td>JOB_FUNCTION_16</td>\n",
       "      <td>CAREER_BAND_10</td>\n",
       "      <td>BUSINESS_SEGMENT_4</td>\n",
       "    </tr>\n",
       "    <tr>\n",
       "      <th>4</th>\n",
       "      <td>TP/DE</td>\n",
       "      <td>416</td>\n",
       "      <td>3.714286</td>\n",
       "      <td>112</td>\n",
       "      <td>None</td>\n",
       "      <td>App_9_Heat_Email_IND</td>\n",
       "      <td>Daily_Heat</td>\n",
       "      <td>3.0</td>\n",
       "      <td>Analyst_4</td>\n",
       "      <td>NaN</td>\n",
       "      <td>JOB_FUNCTION_24</td>\n",
       "      <td>CAREER_BAND_1</td>\n",
       "      <td>BUSINESS_SEGMENT_4</td>\n",
       "    </tr>\n",
       "  </tbody>\n",
       "</table>\n",
       "</div>"
      ],
      "text/plain": [
       "  classification  score  risk_factor  avg_score   hru  \\\n",
       "0          TP/DE    400     3.636364        110  None   \n",
       "1          TP/DE    400     3.636364        110  None   \n",
       "2          TP/DE    400     3.636364        110  None   \n",
       "3         TP/LOW     10    -1.000000         -1  None   \n",
       "4          TP/DE    416     3.714286        112  None   \n",
       "\n",
       "                 indicators  alert_type  indicator_heat_score owner_name  \\\n",
       "0      App_9_Heat_Email_IND  Daily_Heat                   3.0  Analyst_4   \n",
       "1      App_3_Heat_Email_ZIP  Daily_Heat                   5.0  Analyst_4   \n",
       "2  Threshold_Heat_Email_IND  Daily_Heat                   0.0  Analyst_4   \n",
       "3   App_13_Atomic_Email_IND      Atomic                   NaN  Analyst_4   \n",
       "4      App_9_Heat_Email_IND  Daily_Heat                   3.0  Analyst_4   \n",
       "\n",
       "  function_group     job_function     career_band industry_focus_name  \n",
       "0            NaN  JOB_FUNCTION_24   CAREER_BAND_1  BUSINESS_SEGMENT_4  \n",
       "1            NaN  JOB_FUNCTION_24   CAREER_BAND_1  BUSINESS_SEGMENT_4  \n",
       "2            NaN  JOB_FUNCTION_24   CAREER_BAND_1  BUSINESS_SEGMENT_4  \n",
       "3     Production  JOB_FUNCTION_16  CAREER_BAND_10  BUSINESS_SEGMENT_4  \n",
       "4            NaN  JOB_FUNCTION_24   CAREER_BAND_1  BUSINESS_SEGMENT_4  "
      ]
     },
     "execution_count": 35,
     "metadata": {},
     "output_type": "execute_result"
    }
   ],
   "source": [
    "final_df.head(5)"
   ]
  },
  {
   "cell_type": "code",
   "execution_count": 36,
   "id": "1417c4d9-2c66-4f22-9295-1e9bb483c76f",
   "metadata": {},
   "outputs": [
    {
     "data": {
      "text/plain": [
       "(99254, 13)"
      ]
     },
     "execution_count": 36,
     "metadata": {},
     "output_type": "execute_result"
    }
   ],
   "source": [
    "final_df.shape"
   ]
  },
  {
   "cell_type": "code",
   "execution_count": 37,
   "id": "41313248-785a-4fc5-ab8d-0a198d63f023",
   "metadata": {},
   "outputs": [
    {
     "data": {
      "text/plain": [
       "classification              0\n",
       "score                       0\n",
       "risk_factor                 0\n",
       "avg_score                   0\n",
       "hru                         0\n",
       "indicators                  0\n",
       "alert_type                  0\n",
       "indicator_heat_score    44484\n",
       "owner_name                550\n",
       "function_group           4276\n",
       "job_function                0\n",
       "career_band                 0\n",
       "industry_focus_name         0\n",
       "dtype: int64"
      ]
     },
     "execution_count": 37,
     "metadata": {},
     "output_type": "execute_result"
    }
   ],
   "source": [
    "final_df.isnull().sum()"
   ]
  },
  {
   "cell_type": "code",
   "execution_count": 38,
   "id": "5e58a6eb-3833-4f84-9668-8c2da469e3ac",
   "metadata": {},
   "outputs": [],
   "source": [
    "final_df.drop('indicator_heat_score',inplace=True, axis=1)"
   ]
  },
  {
   "cell_type": "code",
   "execution_count": 39,
   "id": "abb247f3-1e06-4338-8c99-190598529281",
   "metadata": {},
   "outputs": [],
   "source": [
    "final_df['owner_name'].fillna('None',inplace=True)\n",
    "final_df['function_group'].fillna('None',inplace=True)"
   ]
  },
  {
   "cell_type": "code",
   "execution_count": 40,
   "id": "901173d9-b22f-45f8-91ab-785aa9f08399",
   "metadata": {},
   "outputs": [],
   "source": [
    "final_uns = pd.get_dummies(final_df)"
   ]
  },
  {
   "cell_type": "code",
   "execution_count": 41,
   "id": "4be66735-0296-4023-8ddc-f04c5d6495c1",
   "metadata": {},
   "outputs": [
    {
     "data": {
      "image/png": "[encoded data removed]",
      "text/plain": [
       "<Figure size 432x288 with 2 Axes>"
      ]
     },
     "metadata": {},
     "output_type": "display_data"
    },
    {
     "data": {
      "text/plain": [
       "<AxesSubplot:title={'center':'Distortion Score Elbow for KMeans Clustering'}, xlabel='k', ylabel='distortion score'>"
      ]
     },
     "execution_count": 41,
     "metadata": {},
     "output_type": "execute_result"
    }
   ],
   "source": [
    "from sklearn.cluster import KMeans\n",
    "from yellowbrick.cluster import KElbowVisualizer\n",
    "\n",
    "# Instantiate the clustering model and visualizer\n",
    "model = KMeans()\n",
    "visualizer = KElbowVisualizer(model, k=(4,12))\n",
    "\n",
    "visualizer.fit(final_uns)        # Fit the data to the visualizer\n",
    "visualizer.show()        # Finalize and render the figure"
   ]
  },
  {
   "cell_type": "code",
   "execution_count": 44,
   "id": "75588cf4-bdf8-40c9-9636-1d86ceb57326",
   "metadata": {},
   "outputs": [],
   "source": [
    "from sklearn.linear_model import LogisticRegression\n",
    "from sklearn import svm\n",
    "from sklearn.ensemble import RandomForestClassifier\n",
    "from sklearn.neural_network import MLPClassifier\n",
    "from sklearn.ensemble import RandomForestClassifier,GradientBoostingClassifier\n",
    "from sklearn.model_selection import train_test_split"
   ]
  },
  {
   "cell_type": "code",
   "execution_count": 46,
   "id": "9df9f755-73e0-4c43-a0d5-bad6977e899e",
   "metadata": {},
   "outputs": [],
   "source": [
    "train_df = final_df.drop(['classification'],axis=1)\n",
    "train_df = pd.get_dummies(train_df)\n",
    "\n",
    "X = train_df\n",
    "y = final_df['classification']\n",
    "\n",
    "X_train, X_test, y_train, y_test = train_test_split(X, y, test_size=0.33, random_state=42)"
   ]
  },
  {
   "cell_type": "code",
   "execution_count": 47,
   "id": "41f2e15c-26b0-495b-8aba-0810edd417aa",
   "metadata": {},
   "outputs": [
    {
     "name": "stderr",
     "output_type": "stream",
     "text": [
      "/opt/anaconda3/lib/python3.8/site-packages/sklearn/linear_model/_logistic.py:763: ConvergenceWarning: lbfgs failed to converge (status=1):\n",
      "STOP: TOTAL NO. of ITERATIONS REACHED LIMIT.\n",
      "\n",
      "Increase the number of iterations (max_iter) or scale the data as shown in:\n",
      "    https://scikit-learn.org/stable/modules/preprocessing.html\n",
      "Please also refer to the documentation for alternative solver options:\n",
      "    https://scikit-learn.org/stable/modules/linear_model.html#logistic-regression\n",
      "  n_iter_i = _check_optimize_result(\n"
     ]
    },
    {
     "data": {
      "text/plain": [
       "0.6566"
      ]
     },
     "execution_count": 47,
     "metadata": {},
     "output_type": "execute_result"
    }
   ],
   "source": [
    "LR = LogisticRegression(random_state=0, solver='lbfgs', multi_class='multinomial').fit(X_train, y_train)\n",
    "LR.predict(X_test)\n",
    "round(LR.score(X_test,y_test), 4)"
   ]
  },
  {
   "cell_type": "code",
   "execution_count": 49,
   "id": "b432a345-471f-49fe-a6ab-de647ce2bb22",
   "metadata": {},
   "outputs": [
    {
     "data": {
      "text/plain": [
       "0.8561"
      ]
     },
     "execution_count": 49,
     "metadata": {},
     "output_type": "execute_result"
    }
   ],
   "source": [
    "SVM = svm.SVC(decision_function_shape=\"ovo\").fit(X_train, y_train)\n",
    "SVM.predict(X_test)\n",
    "round(SVM.score(X_test, y_test), 4)"
   ]
  },
  {
   "cell_type": "code",
   "execution_count": 50,
   "id": "2576882b-29d3-4436-9b65-d8ac1615ec04",
   "metadata": {},
   "outputs": [
    {
     "data": {
      "text/plain": [
       "0.8695"
      ]
     },
     "execution_count": 50,
     "metadata": {},
     "output_type": "execute_result"
    }
   ],
   "source": [
    "RF = RandomForestClassifier(n_estimators=1000, max_depth=10, random_state=0).fit(X_train, y_train)\n",
    "RF.predict(X_test)\n",
    "round(RF.score(X_test, y_test), 4)"
   ]
  },
  {
   "cell_type": "code",
   "execution_count": 51,
   "id": "e0500ab2-8475-4a25-b2d4-ebc9c32fd5dc",
   "metadata": {},
   "outputs": [
    {
     "name": "stderr",
     "output_type": "stream",
     "text": [
      "/opt/anaconda3/lib/python3.8/site-packages/sklearn/neural_network/_multilayer_perceptron.py:500: ConvergenceWarning: lbfgs failed to converge (status=2):\n",
      "ABNORMAL_TERMINATION_IN_LNSRCH.\n",
      "\n",
      "Increase the number of iterations (max_iter) or scale the data as shown in:\n",
      "    https://scikit-learn.org/stable/modules/preprocessing.html\n",
      "  self.n_iter_ = _check_optimize_result(\"lbfgs\", opt_res, self.max_iter)\n"
     ]
    },
    {
     "data": {
      "text/plain": [
       "0.8523"
      ]
     },
     "execution_count": 51,
     "metadata": {},
     "output_type": "execute_result"
    }
   ],
   "source": [
    "NN = MLPClassifier(solver='lbfgs', alpha=1e-5, hidden_layer_sizes=(150, 10), random_state=1).fit(X_train, y_train)\n",
    "NN.predict(X_test)\n",
    "round(NN.score(X_test, y_test), 4)"
   ]
  },
  {
   "cell_type": "code",
   "execution_count": 52,
   "id": "67df1c2d-6a8f-46b1-a865-9a0f78f1ecb3",
   "metadata": {},
   "outputs": [
    {
     "data": {
      "text/plain": [
       "0.8724"
      ]
     },
     "execution_count": 52,
     "metadata": {},
     "output_type": "execute_result"
    }
   ],
   "source": [
    "XGB = GradientBoostingClassifier(n_estimators=100, learning_rate=0.3, max_depth=1, random_state=0).fit(X_train, y_train)\n",
    "XGB.predict(X_test)\n",
    "round(XGB.score(X_test, y_test),4)"
   ]
  }
 ],
 "metadata": {
  "kernelspec": {
   "display_name": "Python 3",
   "language": "python",
   "name": "python3"
  },
  "language_info": {
   "codemirror_mode": {
    "name": "ipython",
    "version": 3
   },
   "file_extension": ".py",
   "mimetype": "text/x-python",
   "name": "python",
   "nbconvert_exporter": "python",
   "pygments_lexer": "ipython3",
   "version": "3.8.8"
  }
 },
 "nbformat": 4,
 "nbformat_minor": 5
}
